{
  "cells": [
    {
      "cell_type": "markdown",
      "metadata": {
        "id": "view-in-github",
        "colab_type": "text"
      },
      "source": [
        "<a href=\"https://colab.research.google.com/github/JasonGross/neural-net-coq-interp/blob/main/October_2023_Monthly_Algorithmic_Challenge_Sorted_List_Jason%2C_Thomas%2C_Rajashree.ipynb\" target=\"_parent\"><img src=\"https://colab.research.google.com/assets/colab-badge.svg\" alt=\"Open In Colab\"/></a>"
      ]
    },
    {
      "cell_type": "markdown",
      "source": [
        "# Monthly Algorithmic Challenge (October 2023): Sorted List\n",
        "\n",
        "This post is the fourth in the sequence of monthly mechanistic interpretability challenges. They are designed in the spirit of [Stephen Casper's challenges](https://www.lesswrong.com/posts/KSHqLzQscwJnv44T8/eis-vii-a-challenge-for-mechanists), but with the more specific aim of working well in the context of the rest of the ARENA material, and helping people put into practice all the things they've learned so far.\n",
        "\n",
        "\n",
        "If you prefer, you can access the Streamlit page [here](https://arena-ch1-transformers.streamlit.app/Monthly_Algorithmic_Problems).\n",
        "\n",
        "<img src=\"https://raw.githubusercontent.com/callummcdougall/computational-thread-art/master/example_images/misc/sorted-problem.png\" width=\"350\">"
      ],
      "metadata": {
        "id": "kP1uuM5cat75"
      }
    },
    {
      "cell_type": "markdown",
      "metadata": {
        "id": "YrRgKTEvagv7"
      },
      "source": [
        "## Setup"
      ]
    },
    {
      "cell_type": "code",
      "execution_count": null,
      "metadata": {
        "colab": {
          "base_uri": "https://localhost:8080/"
        },
        "id": "m6QECdbLagv-",
        "outputId": "de2a78f3-dc21-4a0f-e33c-b1477148316c"
      },
      "outputs": [
        {
          "output_type": "stream",
          "name": "stdout",
          "text": [
            "Collecting einops\n",
            "  Downloading einops-0.7.0-py3-none-any.whl (44 kB)\n",
            "\u001b[?25l     \u001b[90m━━━━━━━━━━━━━━━━━━━━━━━━━━━━━━━━━━━━━━━━\u001b[0m \u001b[32m0.0/44.6 kB\u001b[0m \u001b[31m?\u001b[0m eta \u001b[36m-:--:--\u001b[0m\r\u001b[2K     \u001b[90m━━━━━━━━━━━━━━━━━━━━━━━━━━━━━━━━━━━━━━━━\u001b[0m \u001b[32m44.6/44.6 kB\u001b[0m \u001b[31m1.4 MB/s\u001b[0m eta \u001b[36m0:00:00\u001b[0m\n",
            "\u001b[?25hInstalling collected packages: einops\n",
            "Successfully installed einops-0.7.0\n",
            "Collecting jaxtyping\n",
            "  Downloading jaxtyping-0.2.22-py3-none-any.whl (25 kB)\n",
            "Requirement already satisfied: numpy>=1.20.0 in /usr/local/lib/python3.10/dist-packages (from jaxtyping) (1.23.5)\n",
            "Collecting typeguard>=2.13.3 (from jaxtyping)\n",
            "  Downloading typeguard-4.1.5-py3-none-any.whl (34 kB)\n",
            "Requirement already satisfied: typing-extensions>=3.7.4.1 in /usr/local/lib/python3.10/dist-packages (from jaxtyping) (4.5.0)\n",
            "Collecting typing-extensions>=3.7.4.1 (from jaxtyping)\n",
            "  Downloading typing_extensions-4.8.0-py3-none-any.whl (31 kB)\n",
            "Installing collected packages: typing-extensions, typeguard, jaxtyping\n",
            "  Attempting uninstall: typing-extensions\n",
            "    Found existing installation: typing_extensions 4.5.0\n",
            "    Uninstalling typing_extensions-4.5.0:\n",
            "      Successfully uninstalled typing_extensions-4.5.0\n",
            "\u001b[31mERROR: pip's dependency resolver does not currently take into account all the packages that are installed. This behaviour is the source of the following dependency conflicts.\n",
            "tensorflow 2.13.0 requires typing-extensions<4.6.0,>=3.6.6, but you have typing-extensions 4.8.0 which is incompatible.\u001b[0m\u001b[31m\n",
            "\u001b[0mSuccessfully installed jaxtyping-0.2.22 typeguard-4.1.5 typing-extensions-4.8.0\n",
            "Collecting transformer_lens\n",
            "  Downloading transformer_lens-1.6.1-py3-none-any.whl (109 kB)\n",
            "\u001b[2K     \u001b[90m━━━━━━━━━━━━━━━━━━━━━━━━━━━━━━━━━━━━━━━\u001b[0m \u001b[32m109.9/109.9 kB\u001b[0m \u001b[31m2.3 MB/s\u001b[0m eta \u001b[36m0:00:00\u001b[0m\n",
            "\u001b[?25hCollecting beartype<0.15.0,>=0.14.1 (from transformer_lens)\n",
            "  Downloading beartype-0.14.1-py3-none-any.whl (739 kB)\n",
            "\u001b[2K     \u001b[90m━━━━━━━━━━━━━━━━━━━━━━━━━━━━━━━━━━━━━━\u001b[0m \u001b[32m739.7/739.7 kB\u001b[0m \u001b[31m24.5 MB/s\u001b[0m eta \u001b[36m0:00:00\u001b[0m\n",
            "\u001b[?25hCollecting datasets>=2.7.1 (from transformer_lens)\n",
            "  Downloading datasets-2.14.5-py3-none-any.whl (519 kB)\n",
            "\u001b[2K     \u001b[90m━━━━━━━━━━━━━━━━━━━━━━━━━━━━━━━━━━━━━━\u001b[0m \u001b[32m519.6/519.6 kB\u001b[0m \u001b[31m49.2 MB/s\u001b[0m eta \u001b[36m0:00:00\u001b[0m\n",
            "\u001b[?25hRequirement already satisfied: einops>=0.6.0 in /usr/local/lib/python3.10/dist-packages (from transformer_lens) (0.7.0)\n",
            "Collecting fancy-einsum>=0.0.3 (from transformer_lens)\n",
            "  Downloading fancy_einsum-0.0.3-py3-none-any.whl (6.2 kB)\n",
            "Requirement already satisfied: jaxtyping>=0.2.11 in /usr/local/lib/python3.10/dist-packages (from transformer_lens) (0.2.22)\n",
            "Requirement already satisfied: numpy>=1.23 in /usr/local/lib/python3.10/dist-packages (from transformer_lens) (1.23.5)\n",
            "Requirement already satisfied: pandas>=1.1.5 in /usr/local/lib/python3.10/dist-packages (from transformer_lens) (1.5.3)\n",
            "Requirement already satisfied: rich>=12.6.0 in /usr/local/lib/python3.10/dist-packages (from transformer_lens) (13.5.2)\n",
            "Requirement already satisfied: torch>=1.10 in /usr/local/lib/python3.10/dist-packages (from transformer_lens) (2.0.1+cu118)\n",
            "Requirement already satisfied: tqdm>=4.64.1 in /usr/local/lib/python3.10/dist-packages (from transformer_lens) (4.66.1)\n",
            "Collecting transformers>=4.25.1 (from transformer_lens)\n",
            "  Downloading transformers-4.33.3-py3-none-any.whl (7.6 MB)\n",
            "\u001b[2K     \u001b[90m━━━━━━━━━━━━━━━━━━━━━━━━━━━━━━━━━━━━━━━━\u001b[0m \u001b[32m7.6/7.6 MB\u001b[0m \u001b[31m115.0 MB/s\u001b[0m eta \u001b[36m0:00:00\u001b[0m\n",
            "\u001b[?25hCollecting wandb>=0.13.5 (from transformer_lens)\n",
            "  Downloading wandb-0.15.11-py3-none-any.whl (2.1 MB)\n",
            "\u001b[2K     \u001b[90m━━━━━━━━━━━━━━━━━━━━━━━━━━━━━━━━━━━━━━━━\u001b[0m \u001b[32m2.1/2.1 MB\u001b[0m \u001b[31m86.1 MB/s\u001b[0m eta \u001b[36m0:00:00\u001b[0m\n",
            "\u001b[?25hRequirement already satisfied: pyarrow>=8.0.0 in /usr/local/lib/python3.10/dist-packages (from datasets>=2.7.1->transformer_lens) (9.0.0)\n",
            "Collecting dill<0.3.8,>=0.3.0 (from datasets>=2.7.1->transformer_lens)\n",
            "  Downloading dill-0.3.7-py3-none-any.whl (115 kB)\n",
            "\u001b[2K     \u001b[90m━━━━━━━━━━━━━━━━━━━━━━━━━━━━━━━━━━━━━━\u001b[0m \u001b[32m115.3/115.3 kB\u001b[0m \u001b[31m15.0 MB/s\u001b[0m eta \u001b[36m0:00:00\u001b[0m\n",
            "\u001b[?25hRequirement already satisfied: requests>=2.19.0 in /usr/local/lib/python3.10/dist-packages (from datasets>=2.7.1->transformer_lens) (2.31.0)\n",
            "Collecting xxhash (from datasets>=2.7.1->transformer_lens)\n",
            "  Downloading xxhash-3.3.0-cp310-cp310-manylinux_2_17_x86_64.manylinux2014_x86_64.whl (194 kB)\n",
            "\u001b[2K     \u001b[90m━━━━━━━━━━━━━━━━━━━━━━━━━━━━━━━━━━━━━━\u001b[0m \u001b[32m194.1/194.1 kB\u001b[0m \u001b[31m24.0 MB/s\u001b[0m eta \u001b[36m0:00:00\u001b[0m\n",
            "\u001b[?25hCollecting multiprocess (from datasets>=2.7.1->transformer_lens)\n",
            "  Downloading multiprocess-0.70.15-py310-none-any.whl (134 kB)\n",
            "\u001b[2K     \u001b[90m━━━━━━━━━━━━━━━━━━━━━━━━━━━━━━━━━━━━━━\u001b[0m \u001b[32m134.8/134.8 kB\u001b[0m \u001b[31m17.4 MB/s\u001b[0m eta \u001b[36m0:00:00\u001b[0m\n",
            "\u001b[?25hRequirement already satisfied: fsspec[http]<2023.9.0,>=2023.1.0 in /usr/local/lib/python3.10/dist-packages (from datasets>=2.7.1->transformer_lens) (2023.6.0)\n",
            "Requirement already satisfied: aiohttp in /usr/local/lib/python3.10/dist-packages (from datasets>=2.7.1->transformer_lens) (3.8.5)\n",
            "Collecting huggingface-hub<1.0.0,>=0.14.0 (from datasets>=2.7.1->transformer_lens)\n",
            "  Downloading huggingface_hub-0.17.3-py3-none-any.whl (295 kB)\n",
            "\u001b[2K     \u001b[90m━━━━━━━━━━━━━━━━━━━━━━━━━━━━━━━━━━━━━━\u001b[0m \u001b[32m295.0/295.0 kB\u001b[0m \u001b[31m33.5 MB/s\u001b[0m eta \u001b[36m0:00:00\u001b[0m\n",
            "\u001b[?25hRequirement already satisfied: packaging in /usr/local/lib/python3.10/dist-packages (from datasets>=2.7.1->transformer_lens) (23.1)\n",
            "Requirement already satisfied: pyyaml>=5.1 in /usr/local/lib/python3.10/dist-packages (from datasets>=2.7.1->transformer_lens) (6.0.1)\n",
            "Requirement already satisfied: typeguard>=2.13.3 in /usr/local/lib/python3.10/dist-packages (from jaxtyping>=0.2.11->transformer_lens) (4.1.5)\n",
            "Requirement already satisfied: typing-extensions>=3.7.4.1 in /usr/local/lib/python3.10/dist-packages (from jaxtyping>=0.2.11->transformer_lens) (4.8.0)\n",
            "Requirement already satisfied: python-dateutil>=2.8.1 in /usr/local/lib/python3.10/dist-packages (from pandas>=1.1.5->transformer_lens) (2.8.2)\n",
            "Requirement already satisfied: pytz>=2020.1 in /usr/local/lib/python3.10/dist-packages (from pandas>=1.1.5->transformer_lens) (2023.3.post1)\n",
            "Requirement already satisfied: markdown-it-py>=2.2.0 in /usr/local/lib/python3.10/dist-packages (from rich>=12.6.0->transformer_lens) (3.0.0)\n",
            "Requirement already satisfied: pygments<3.0.0,>=2.13.0 in /usr/local/lib/python3.10/dist-packages (from rich>=12.6.0->transformer_lens) (2.16.1)\n",
            "Requirement already satisfied: filelock in /usr/local/lib/python3.10/dist-packages (from torch>=1.10->transformer_lens) (3.12.2)\n",
            "Requirement already satisfied: sympy in /usr/local/lib/python3.10/dist-packages (from torch>=1.10->transformer_lens) (1.12)\n",
            "Requirement already satisfied: networkx in /usr/local/lib/python3.10/dist-packages (from torch>=1.10->transformer_lens) (3.1)\n",
            "Requirement already satisfied: jinja2 in /usr/local/lib/python3.10/dist-packages (from torch>=1.10->transformer_lens) (3.1.2)\n",
            "Requirement already satisfied: triton==2.0.0 in /usr/local/lib/python3.10/dist-packages (from torch>=1.10->transformer_lens) (2.0.0)\n",
            "Requirement already satisfied: cmake in /usr/local/lib/python3.10/dist-packages (from triton==2.0.0->torch>=1.10->transformer_lens) (3.27.4.1)\n",
            "Requirement already satisfied: lit in /usr/local/lib/python3.10/dist-packages (from triton==2.0.0->torch>=1.10->transformer_lens) (16.0.6)\n",
            "Requirement already satisfied: regex!=2019.12.17 in /usr/local/lib/python3.10/dist-packages (from transformers>=4.25.1->transformer_lens) (2023.6.3)\n",
            "Collecting tokenizers!=0.11.3,<0.14,>=0.11.1 (from transformers>=4.25.1->transformer_lens)\n",
            "  Downloading tokenizers-0.13.3-cp310-cp310-manylinux_2_17_x86_64.manylinux2014_x86_64.whl (7.8 MB)\n",
            "\u001b[2K     \u001b[90m━━━━━━━━━━━━━━━━━━━━━━━━━━━━━━━━━━━━━━━━\u001b[0m \u001b[32m7.8/7.8 MB\u001b[0m \u001b[31m119.6 MB/s\u001b[0m eta \u001b[36m0:00:00\u001b[0m\n",
            "\u001b[?25hCollecting safetensors>=0.3.1 (from transformers>=4.25.1->transformer_lens)\n",
            "  Downloading safetensors-0.3.3-cp310-cp310-manylinux_2_17_x86_64.manylinux2014_x86_64.whl (1.3 MB)\n",
            "\u001b[2K     \u001b[90m━━━━━━━━━━━━━━━━━━━━━━━━━━━━━━━━━━━━━━━━\u001b[0m \u001b[32m1.3/1.3 MB\u001b[0m \u001b[31m82.6 MB/s\u001b[0m eta \u001b[36m0:00:00\u001b[0m\n",
            "\u001b[?25hRequirement already satisfied: Click!=8.0.0,>=7.1 in /usr/local/lib/python3.10/dist-packages (from wandb>=0.13.5->transformer_lens) (8.1.7)\n",
            "Collecting GitPython!=3.1.29,>=1.0.0 (from wandb>=0.13.5->transformer_lens)\n",
            "  Downloading GitPython-3.1.37-py3-none-any.whl (190 kB)\n",
            "\u001b[2K     \u001b[90m━━━━━━━━━━━━━━━━━━━━━━━━━━━━━━━━━━━━━━\u001b[0m \u001b[32m190.0/190.0 kB\u001b[0m \u001b[31m22.7 MB/s\u001b[0m eta \u001b[36m0:00:00\u001b[0m\n",
            "\u001b[?25hRequirement already satisfied: psutil>=5.0.0 in /usr/local/lib/python3.10/dist-packages (from wandb>=0.13.5->transformer_lens) (5.9.5)\n",
            "Collecting sentry-sdk>=1.0.0 (from wandb>=0.13.5->transformer_lens)\n",
            "  Downloading sentry_sdk-1.31.0-py2.py3-none-any.whl (224 kB)\n",
            "\u001b[2K     \u001b[90m━━━━━━━━━━━━━━━━━━━━━━━━━━━━━━━━━━━━━━\u001b[0m \u001b[32m224.8/224.8 kB\u001b[0m \u001b[31m25.3 MB/s\u001b[0m eta \u001b[36m0:00:00\u001b[0m\n",
            "\u001b[?25hCollecting docker-pycreds>=0.4.0 (from wandb>=0.13.5->transformer_lens)\n",
            "  Downloading docker_pycreds-0.4.0-py2.py3-none-any.whl (9.0 kB)\n",
            "Collecting pathtools (from wandb>=0.13.5->transformer_lens)\n",
            "  Downloading pathtools-0.1.2.tar.gz (11 kB)\n",
            "  Preparing metadata (setup.py) ... \u001b[?25l\u001b[?25hdone\n",
            "Collecting setproctitle (from wandb>=0.13.5->transformer_lens)\n",
            "  Downloading setproctitle-1.3.2-cp310-cp310-manylinux_2_5_x86_64.manylinux1_x86_64.manylinux_2_17_x86_64.manylinux2014_x86_64.whl (30 kB)\n",
            "Requirement already satisfied: setuptools in /usr/local/lib/python3.10/dist-packages (from wandb>=0.13.5->transformer_lens) (67.7.2)\n",
            "Requirement already satisfied: appdirs>=1.4.3 in /usr/local/lib/python3.10/dist-packages (from wandb>=0.13.5->transformer_lens) (1.4.4)\n",
            "Requirement already satisfied: protobuf!=4.21.0,<5,>=3.19.0 in /usr/local/lib/python3.10/dist-packages (from wandb>=0.13.5->transformer_lens) (3.20.3)\n",
            "Requirement already satisfied: six>=1.4.0 in /usr/local/lib/python3.10/dist-packages (from docker-pycreds>=0.4.0->wandb>=0.13.5->transformer_lens) (1.16.0)\n",
            "Requirement already satisfied: attrs>=17.3.0 in /usr/local/lib/python3.10/dist-packages (from aiohttp->datasets>=2.7.1->transformer_lens) (23.1.0)\n",
            "Requirement already satisfied: charset-normalizer<4.0,>=2.0 in /usr/local/lib/python3.10/dist-packages (from aiohttp->datasets>=2.7.1->transformer_lens) (3.2.0)\n",
            "Requirement already satisfied: multidict<7.0,>=4.5 in /usr/local/lib/python3.10/dist-packages (from aiohttp->datasets>=2.7.1->transformer_lens) (6.0.4)\n",
            "Requirement already satisfied: async-timeout<5.0,>=4.0.0a3 in /usr/local/lib/python3.10/dist-packages (from aiohttp->datasets>=2.7.1->transformer_lens) (4.0.3)\n",
            "Requirement already satisfied: yarl<2.0,>=1.0 in /usr/local/lib/python3.10/dist-packages (from aiohttp->datasets>=2.7.1->transformer_lens) (1.9.2)\n",
            "Requirement already satisfied: frozenlist>=1.1.1 in /usr/local/lib/python3.10/dist-packages (from aiohttp->datasets>=2.7.1->transformer_lens) (1.4.0)\n",
            "Requirement already satisfied: aiosignal>=1.1.2 in /usr/local/lib/python3.10/dist-packages (from aiohttp->datasets>=2.7.1->transformer_lens) (1.3.1)\n",
            "Collecting gitdb<5,>=4.0.1 (from GitPython!=3.1.29,>=1.0.0->wandb>=0.13.5->transformer_lens)\n",
            "  Downloading gitdb-4.0.10-py3-none-any.whl (62 kB)\n",
            "\u001b[2K     \u001b[90m━━━━━━━━━━━━━━━━━━━━━━━━━━━━━━━━━━━━━━━━\u001b[0m \u001b[32m62.7/62.7 kB\u001b[0m \u001b[31m8.2 MB/s\u001b[0m eta \u001b[36m0:00:00\u001b[0m\n",
            "\u001b[?25hRequirement already satisfied: mdurl~=0.1 in /usr/local/lib/python3.10/dist-packages (from markdown-it-py>=2.2.0->rich>=12.6.0->transformer_lens) (0.1.2)\n",
            "Requirement already satisfied: idna<4,>=2.5 in /usr/local/lib/python3.10/dist-packages (from requests>=2.19.0->datasets>=2.7.1->transformer_lens) (3.4)\n",
            "Requirement already satisfied: urllib3<3,>=1.21.1 in /usr/local/lib/python3.10/dist-packages (from requests>=2.19.0->datasets>=2.7.1->transformer_lens) (2.0.4)\n",
            "Requirement already satisfied: certifi>=2017.4.17 in /usr/local/lib/python3.10/dist-packages (from requests>=2.19.0->datasets>=2.7.1->transformer_lens) (2023.7.22)\n",
            "Requirement already satisfied: MarkupSafe>=2.0 in /usr/local/lib/python3.10/dist-packages (from jinja2->torch>=1.10->transformer_lens) (2.1.3)\n",
            "Requirement already satisfied: mpmath>=0.19 in /usr/local/lib/python3.10/dist-packages (from sympy->torch>=1.10->transformer_lens) (1.3.0)\n",
            "Collecting smmap<6,>=3.0.1 (from gitdb<5,>=4.0.1->GitPython!=3.1.29,>=1.0.0->wandb>=0.13.5->transformer_lens)\n",
            "  Downloading smmap-5.0.1-py3-none-any.whl (24 kB)\n",
            "Building wheels for collected packages: pathtools\n",
            "  Building wheel for pathtools (setup.py) ... \u001b[?25l\u001b[?25hdone\n",
            "  Created wheel for pathtools: filename=pathtools-0.1.2-py3-none-any.whl size=8791 sha256=6c4abafb954e8cc46fc3e46dd5559df69a2c4c531915f3990922e4793011297b\n",
            "  Stored in directory: /root/.cache/pip/wheels/e7/f3/22/152153d6eb222ee7a56ff8617d80ee5207207a8c00a7aab794\n",
            "Successfully built pathtools\n",
            "Installing collected packages: tokenizers, safetensors, pathtools, xxhash, smmap, setproctitle, sentry-sdk, fancy-einsum, docker-pycreds, dill, beartype, multiprocess, huggingface-hub, gitdb, transformers, GitPython, wandb, datasets, transformer_lens\n",
            "Successfully installed GitPython-3.1.37 beartype-0.14.1 datasets-2.14.5 dill-0.3.7 docker-pycreds-0.4.0 fancy-einsum-0.0.3 gitdb-4.0.10 huggingface-hub-0.17.3 multiprocess-0.70.15 pathtools-0.1.2 safetensors-0.3.3 sentry-sdk-1.31.0 setproctitle-1.3.2 smmap-5.0.1 tokenizers-0.13.3 transformer_lens-1.6.1 transformers-4.33.3 wandb-0.15.11 xxhash-3.3.0\n",
            "Collecting git+https://github.com/callummcdougall/eindex.git\n",
            "  Cloning https://github.com/callummcdougall/eindex.git to /tmp/pip-req-build-gxz08cez\n",
            "  Running command git clone --filter=blob:none --quiet https://github.com/callummcdougall/eindex.git /tmp/pip-req-build-gxz08cez\n",
            "  Resolved https://github.com/callummcdougall/eindex.git to commit 807e3fff10bbb8f814d40053a3d0dc5dfa8c9a88\n",
            "  Preparing metadata (setup.py) ... \u001b[?25l\u001b[?25hdone\n",
            "Requirement already satisfied: torch in /usr/local/lib/python3.10/dist-packages (from eindex==0.1) (2.0.1+cu118)\n",
            "Requirement already satisfied: filelock in /usr/local/lib/python3.10/dist-packages (from torch->eindex==0.1) (3.12.2)\n",
            "Requirement already satisfied: typing-extensions in /usr/local/lib/python3.10/dist-packages (from torch->eindex==0.1) (4.8.0)\n",
            "Requirement already satisfied: sympy in /usr/local/lib/python3.10/dist-packages (from torch->eindex==0.1) (1.12)\n",
            "Requirement already satisfied: networkx in /usr/local/lib/python3.10/dist-packages (from torch->eindex==0.1) (3.1)\n",
            "Requirement already satisfied: jinja2 in /usr/local/lib/python3.10/dist-packages (from torch->eindex==0.1) (3.1.2)\n",
            "Requirement already satisfied: triton==2.0.0 in /usr/local/lib/python3.10/dist-packages (from torch->eindex==0.1) (2.0.0)\n",
            "Requirement already satisfied: cmake in /usr/local/lib/python3.10/dist-packages (from triton==2.0.0->torch->eindex==0.1) (3.27.4.1)\n",
            "Requirement already satisfied: lit in /usr/local/lib/python3.10/dist-packages (from triton==2.0.0->torch->eindex==0.1) (16.0.6)\n",
            "Requirement already satisfied: MarkupSafe>=2.0 in /usr/local/lib/python3.10/dist-packages (from jinja2->torch->eindex==0.1) (2.1.3)\n",
            "Requirement already satisfied: mpmath>=0.19 in /usr/local/lib/python3.10/dist-packages (from sympy->torch->eindex==0.1) (1.3.0)\n",
            "Building wheels for collected packages: eindex\n",
            "  Building wheel for eindex (setup.py) ... \u001b[?25l\u001b[?25hdone\n",
            "  Created wheel for eindex: filename=eindex-0.1-py3-none-any.whl size=5220 sha256=b6875da959364483ba13d65c5fc5ef96b7e586f878a31a4db644998f058d47b9\n",
            "  Stored in directory: /tmp/pip-ephem-wheel-cache-uuxagcu7/wheels/be/f6/8f/ebc7ec9e5bc5dff7be37fdce107f68449672f9c79b5df9328a\n",
            "Successfully built eindex\n",
            "Installing collected packages: eindex\n",
            "Successfully installed eindex-0.1\n",
            "Collecting git+https://github.com/callummcdougall/CircuitsVis.git#subdirectory=python\n",
            "  Cloning https://github.com/callummcdougall/CircuitsVis.git to /tmp/pip-req-build-9mc39lzi\n",
            "  Running command git clone --filter=blob:none --quiet https://github.com/callummcdougall/CircuitsVis.git /tmp/pip-req-build-9mc39lzi\n",
            "  Resolved https://github.com/callummcdougall/CircuitsVis.git to commit df9bfc252807e8b1c3a26c3c4796c18342c7fc71\n",
            "  Installing build dependencies ... \u001b[?25l\u001b[?25hdone\n",
            "  Getting requirements to build wheel ... \u001b[?25l\u001b[?25hdone\n",
            "  Preparing metadata (pyproject.toml) ... \u001b[?25l\u001b[?25hdone\n",
            "Collecting importlib-metadata<6.0.0,>=5.1.0 (from circuitsvis==0.0.0)\n",
            "  Downloading importlib_metadata-5.2.0-py3-none-any.whl (21 kB)\n",
            "Requirement already satisfied: numpy<2.0,>=1.23 in /usr/local/lib/python3.10/dist-packages (from circuitsvis==0.0.0) (1.23.5)\n",
            "Requirement already satisfied: torch<3.0,>=2.0 in /usr/local/lib/python3.10/dist-packages (from circuitsvis==0.0.0) (2.0.1+cu118)\n",
            "Requirement already satisfied: zipp>=0.5 in /usr/local/lib/python3.10/dist-packages (from importlib-metadata<6.0.0,>=5.1.0->circuitsvis==0.0.0) (3.16.2)\n",
            "Requirement already satisfied: filelock in /usr/local/lib/python3.10/dist-packages (from torch<3.0,>=2.0->circuitsvis==0.0.0) (3.12.2)\n",
            "Requirement already satisfied: typing-extensions in /usr/local/lib/python3.10/dist-packages (from torch<3.0,>=2.0->circuitsvis==0.0.0) (4.8.0)\n",
            "Requirement already satisfied: sympy in /usr/local/lib/python3.10/dist-packages (from torch<3.0,>=2.0->circuitsvis==0.0.0) (1.12)\n",
            "Requirement already satisfied: networkx in /usr/local/lib/python3.10/dist-packages (from torch<3.0,>=2.0->circuitsvis==0.0.0) (3.1)\n",
            "Requirement already satisfied: jinja2 in /usr/local/lib/python3.10/dist-packages (from torch<3.0,>=2.0->circuitsvis==0.0.0) (3.1.2)\n",
            "Requirement already satisfied: triton==2.0.0 in /usr/local/lib/python3.10/dist-packages (from torch<3.0,>=2.0->circuitsvis==0.0.0) (2.0.0)\n",
            "Requirement already satisfied: cmake in /usr/local/lib/python3.10/dist-packages (from triton==2.0.0->torch<3.0,>=2.0->circuitsvis==0.0.0) (3.27.4.1)\n",
            "Requirement already satisfied: lit in /usr/local/lib/python3.10/dist-packages (from triton==2.0.0->torch<3.0,>=2.0->circuitsvis==0.0.0) (16.0.6)\n",
            "Requirement already satisfied: MarkupSafe>=2.0 in /usr/local/lib/python3.10/dist-packages (from jinja2->torch<3.0,>=2.0->circuitsvis==0.0.0) (2.1.3)\n",
            "Requirement already satisfied: mpmath>=0.19 in /usr/local/lib/python3.10/dist-packages (from sympy->torch<3.0,>=2.0->circuitsvis==0.0.0) (1.3.0)\n",
            "Building wheels for collected packages: circuitsvis\n",
            "  Building wheel for circuitsvis (pyproject.toml) ... \u001b[?25l\u001b[?25hdone\n",
            "  Created wheel for circuitsvis: filename=circuitsvis-0.0.0-py3-none-any.whl size=6170923 sha256=7101b262d0720ea697e8ca0933183e55c9d6b28a592d89e9c7f49c863ad572c6\n",
            "  Stored in directory: /tmp/pip-ephem-wheel-cache-q8g2n90g/wheels/86/be/ad/78078aba9344d200aad61b63d35cdaecdec160212f039eed74\n",
            "Successfully built circuitsvis\n",
            "Installing collected packages: importlib-metadata, circuitsvis\n",
            "  Attempting uninstall: importlib-metadata\n",
            "    Found existing installation: importlib-metadata 6.8.0\n",
            "    Uninstalling importlib-metadata-6.8.0:\n",
            "      Successfully uninstalled importlib-metadata-6.8.0\n",
            "Successfully installed circuitsvis-0.0.0 importlib-metadata-5.2.0\n",
            "  % Total    % Received % Xferd  Average Speed   Time    Time     Time  Current\n",
            "                                 Dload  Upload   Total   Spent    Left  Speed\n",
            "100 58.8M    0 58.8M    0     0  8709k      0 --:--:--  0:00:06 --:--:-- 9055k\n",
            "Archive:  /content/main.zip\n",
            "80ed5c744170841fa6854ad10269eee6928d2f19\n",
            "   creating: ARENA_2.0-main/chapter1_transformers/exercises/\n",
            "   creating: ARENA_2.0-main/chapter1_transformers/exercises/monthly_algorithmic_problems/\n",
            "   creating: ARENA_2.0-main/chapter1_transformers/exercises/monthly_algorithmic_problems/.vscode/\n",
            "  inflating: ARENA_2.0-main/chapter1_transformers/exercises/monthly_algorithmic_problems/.vscode/settings.json  \n",
            "   creating: ARENA_2.0-main/chapter1_transformers/exercises/monthly_algorithmic_problems/august23_unique_char/\n",
            "  inflating: ARENA_2.0-main/chapter1_transformers/exercises/monthly_algorithmic_problems/august23_unique_char/dataset.py  \n",
            "  inflating: ARENA_2.0-main/chapter1_transformers/exercises/monthly_algorithmic_problems/august23_unique_char/first_unique_char_model.pt  \n",
            "  inflating: ARENA_2.0-main/chapter1_transformers/exercises/monthly_algorithmic_problems/august23_unique_char/model.py  \n",
            "  inflating: ARENA_2.0-main/chapter1_transformers/exercises/monthly_algorithmic_problems/august23_unique_char/training.py  \n",
            "  inflating: ARENA_2.0-main/chapter1_transformers/exercises/monthly_algorithmic_problems/august23_unique_char/training_model.ipynb  \n",
            "   creating: ARENA_2.0-main/chapter1_transformers/exercises/monthly_algorithmic_problems/eagx_berlin_challenge/\n",
            "  inflating: ARENA_2.0-main/chapter1_transformers/exercises/monthly_algorithmic_problems/eagx_berlin_challenge/dataset.py  \n",
            "  inflating: ARENA_2.0-main/chapter1_transformers/exercises/monthly_algorithmic_problems/eagx_berlin_challenge/model.py  \n",
            "  inflating: ARENA_2.0-main/chapter1_transformers/exercises/monthly_algorithmic_problems/eagx_berlin_challenge/palindrome_classifier.pt  \n",
            "  inflating: ARENA_2.0-main/chapter1_transformers/exercises/monthly_algorithmic_problems/eagx_berlin_challenge/palindrome_classifier_hard.pt  \n",
            "  inflating: ARENA_2.0-main/chapter1_transformers/exercises/monthly_algorithmic_problems/eagx_berlin_challenge/requirements.txt  \n",
            "   creating: ARENA_2.0-main/chapter1_transformers/exercises/monthly_algorithmic_problems/july23_palindromes/\n",
            "  inflating: ARENA_2.0-main/chapter1_transformers/exercises/monthly_algorithmic_problems/july23_palindromes/dataset.py  \n",
            "  inflating: ARENA_2.0-main/chapter1_transformers/exercises/monthly_algorithmic_problems/july23_palindromes/model.py  \n",
            "  inflating: ARENA_2.0-main/chapter1_transformers/exercises/monthly_algorithmic_problems/july23_palindromes/palindrome_classifier.pt  \n",
            "  inflating: ARENA_2.0-main/chapter1_transformers/exercises/monthly_algorithmic_problems/july23_palindromes/training.py  \n",
            "  inflating: ARENA_2.0-main/chapter1_transformers/exercises/monthly_algorithmic_problems/july23_palindromes/training_model.ipynb  \n",
            "   creating: ARENA_2.0-main/chapter1_transformers/exercises/monthly_algorithmic_problems/october23_sorted_list/\n",
            "  inflating: ARENA_2.0-main/chapter1_transformers/exercises/monthly_algorithmic_problems/october23_sorted_list/dataset.py  \n",
            "  inflating: ARENA_2.0-main/chapter1_transformers/exercises/monthly_algorithmic_problems/october23_sorted_list/model.py  \n",
            "  inflating: ARENA_2.0-main/chapter1_transformers/exercises/monthly_algorithmic_problems/october23_sorted_list/sorted_list_model.pt  \n",
            "  inflating: ARENA_2.0-main/chapter1_transformers/exercises/monthly_algorithmic_problems/october23_sorted_list/training.py  \n",
            "  inflating: ARENA_2.0-main/chapter1_transformers/exercises/monthly_algorithmic_problems/october23_sorted_list/training_model.ipynb  \n",
            "   creating: ARENA_2.0-main/chapter1_transformers/exercises/monthly_algorithmic_problems/september23_sum/\n",
            "  inflating: ARENA_2.0-main/chapter1_transformers/exercises/monthly_algorithmic_problems/september23_sum/dataset.py  \n",
            "  inflating: ARENA_2.0-main/chapter1_transformers/exercises/monthly_algorithmic_problems/september23_sum/model.py  \n",
            "  inflating: ARENA_2.0-main/chapter1_transformers/exercises/monthly_algorithmic_problems/september23_sum/sum_model.pt  \n",
            "  inflating: ARENA_2.0-main/chapter1_transformers/exercises/monthly_algorithmic_problems/september23_sum/training.py  \n",
            "  inflating: ARENA_2.0-main/chapter1_transformers/exercises/monthly_algorithmic_problems/september23_sum/training_model.ipynb  \n",
            "   creating: ARENA_2.0-main/chapter1_transformers/exercises/part1_transformer_from_scratch/\n",
            "  inflating: ARENA_2.0-main/chapter1_transformers/exercises/part1_transformer_from_scratch/solutions.py  \n",
            "   creating: ARENA_2.0-main/chapter1_transformers/exercises/part2_intro_to_mech_interp/\n",
            "  inflating: ARENA_2.0-main/chapter1_transformers/exercises/part2_intro_to_mech_interp/solutions.py  \n",
            "  inflating: ARENA_2.0-main/chapter1_transformers/exercises/part2_intro_to_mech_interp/tests.py  \n",
            "   creating: ARENA_2.0-main/chapter1_transformers/exercises/part3_indirect_object_identification/\n",
            "  inflating: ARENA_2.0-main/chapter1_transformers/exercises/part3_indirect_object_identification/ioi_circuit_extraction.py  \n",
            "  inflating: ARENA_2.0-main/chapter1_transformers/exercises/part3_indirect_object_identification/ioi_dataset.py  \n",
            "  inflating: ARENA_2.0-main/chapter1_transformers/exercises/part3_indirect_object_identification/solutions.py  \n",
            "  inflating: ARENA_2.0-main/chapter1_transformers/exercises/part3_indirect_object_identification/tests.py  \n",
            "   creating: ARENA_2.0-main/chapter1_transformers/exercises/part4_interp_on_algorithmic_model/\n",
            "  inflating: ARENA_2.0-main/chapter1_transformers/exercises/part4_interp_on_algorithmic_model/brackets_data.json  \n",
            "  inflating: ARENA_2.0-main/chapter1_transformers/exercises/part4_interp_on_algorithmic_model/brackets_datasets.py  \n",
            "  inflating: ARENA_2.0-main/chapter1_transformers/exercises/part4_interp_on_algorithmic_model/brackets_model_state_dict.pt  \n",
            "  inflating: ARENA_2.0-main/chapter1_transformers/exercises/part4_interp_on_algorithmic_model/solutions.py  \n",
            "  inflating: ARENA_2.0-main/chapter1_transformers/exercises/part4_interp_on_algorithmic_model/tests.py  \n",
            "   creating: ARENA_2.0-main/chapter1_transformers/exercises/part5_grokking_and_modular_arithmetic/\n",
            "  inflating: ARENA_2.0-main/chapter1_transformers/exercises/part5_grokking_and_modular_arithmetic/my_utils.py  \n",
            "  inflating: ARENA_2.0-main/chapter1_transformers/exercises/part5_grokking_and_modular_arithmetic/solutions.py  \n",
            "  inflating: ARENA_2.0-main/chapter1_transformers/exercises/part5_grokking_and_modular_arithmetic/tests.py  \n",
            "   creating: ARENA_2.0-main/chapter1_transformers/exercises/part6_othellogpt/\n",
            "  inflating: ARENA_2.0-main/chapter1_transformers/exercises/part6_othellogpt/solutions.py  \n",
            "  inflating: ARENA_2.0-main/chapter1_transformers/exercises/part6_othellogpt/tests.py  \n",
            "   creating: ARENA_2.0-main/chapter1_transformers/exercises/part7_toy_models_of_superposition/\n",
            "  inflating: ARENA_2.0-main/chapter1_transformers/exercises/part7_toy_models_of_superposition/solutions.py  \n",
            "  inflating: ARENA_2.0-main/chapter1_transformers/exercises/part7_toy_models_of_superposition/tests.py  \n",
            "  inflating: ARENA_2.0-main/chapter1_transformers/exercises/part7_toy_models_of_superposition/utils.py  \n",
            "  inflating: ARENA_2.0-main/chapter1_transformers/exercises/plotly_utils.py  \n"
          ]
        }
      ],
      "source": [
        "try:\n",
        "    import google.colab # type: ignore\n",
        "    IN_COLAB = True\n",
        "except:\n",
        "    IN_COLAB = False\n",
        "\n",
        "import os; os.environ[\"ACCELERATE_DISABLE_RICH\"] = \"1\"\n",
        "import sys\n",
        "\n",
        "if IN_COLAB:\n",
        "    # Install packages\n",
        "    %pip install einops\n",
        "    %pip install jaxtyping\n",
        "    %pip install transformer_lens\n",
        "    %pip install git+https://github.com/callummcdougall/eindex.git\n",
        "    %pip install git+https://github.com/callummcdougall/CircuitsVis.git#subdirectory=python\n",
        "\n",
        "    # Code to download the necessary files (e.g. solutions, test funcs)\n",
        "    import os, sys\n",
        "    if not os.path.exists(\"chapter1_transformers\"):\n",
        "        !curl -o /content/main.zip https://codeload.github.com/callummcdougall/ARENA_2.0/zip/refs/heads/main\n",
        "        !unzip /content/main.zip 'ARENA_2.0-main/chapter1_transformers/exercises/*'\n",
        "        sys.path.append(\"/content/ARENA_2.0-main/chapter1_transformers/exercises\")\n",
        "        os.remove(\"/content/main.zip\")\n",
        "        os.rename(\"ARENA_2.0-main/chapter1_transformers\", \"chapter1_transformers\")\n",
        "        os.rmdir(\"ARENA_2.0-main\")\n",
        "        os.chdir(\"chapter1_transformers/exercises\")\n",
        "else:\n",
        "    from IPython import get_ipython\n",
        "    ipython = get_ipython()\n",
        "    ipython.run_line_magic(\"load_ext\", \"autoreload\")\n",
        "    ipython.run_line_magic(\"autoreload\", \"2\")"
      ]
    },
    {
      "cell_type": "code",
      "execution_count": null,
      "metadata": {
        "id": "Jyvl4hcUagv_"
      },
      "outputs": [],
      "source": [
        "import torch as t\n",
        "from pathlib import Path\n",
        "\n",
        "# Make sure exercises are in the path\n",
        "chapter = r\"chapter1_transformers\"\n",
        "exercises_dir = Path(f\"{os.getcwd().split(chapter)[0]}/{chapter}/exercises\").resolve()\n",
        "section_dir = exercises_dir / \"monthly_algorithmic_problems\" / \"october23_sorted_list\"\n",
        "if str(exercises_dir) not in sys.path: sys.path.append(str(exercises_dir))\n",
        "\n",
        "from monthly_algorithmic_problems.october23_sorted_list.dataset import SortedListDataset\n",
        "from monthly_algorithmic_problems.october23_sorted_list.model import create_model\n",
        "from plotly_utils import hist, bar, imshow\n",
        "\n",
        "device = t.device(\"cuda\" if t.cuda.is_available() else \"cpu\")"
      ]
    },
    {
      "cell_type": "markdown",
      "metadata": {
        "id": "nLWv5DqwagwA"
      },
      "source": [
        "\n",
        "\n",
        "## Prerequisites\n",
        "\n",
        "The following ARENA material should be considered essential:\n",
        "\n",
        "* **[1.1] Transformer from scratch** (sections 1-3)\n",
        "* **[1.2] Intro to Mech Interp** (sections 1-3)\n",
        "\n",
        "The following material isn't essential, but is recommended:\n",
        "\n",
        "* **[1.2] Intro to Mech Interp** (section 4)\n",
        "* **[1.4] Balanced Bracket Classifier** (all sections)\n",
        "* Previous algorithmic problems in the sequence\n"
      ]
    },
    {
      "cell_type": "markdown",
      "source": [
        "## Difficulty\n",
        "\n",
        "**This problem is probably the easiest in the sequence so far**, so I expect solutions to have fully reverse-engineered it, as well as presenting adversarial examples and explaining how & why they work.**"
      ],
      "metadata": {
        "id": "D-K5co-sHdtC"
      }
    },
    {
      "cell_type": "markdown",
      "source": [
        "\n",
        "## Motivation\n",
        "\n",
        "Neel Nanda's post [200 COP in MI: Interpreting Algorithmic Problems](https://www.lesswrong.com/posts/ejtFsvyhRkMofKAFy/200-cop-in-mi-interpreting-algorithmic-problems) does a good job explaining the motivation behind solving algorithmic problems such as these. I'd strongly recommend reading the whole post, because it also gives some high-level advice for approaching such problems.\n",
        "\n",
        "The main purpose of these challenges isn't to break new ground in mech interp, rather they're designed to help you practice using & develop better understanding for standard MI tools (e.g. interpreting attention, direct logit attribution), and more generally working with libraries like TransformerLens.\n",
        "\n",
        "Also, they're hopefully pretty fun, because why shouldn't we have some fun while we're learning?"
      ],
      "metadata": {
        "id": "uR93nUHLaxHo"
      }
    },
    {
      "cell_type": "markdown",
      "source": [
        "## Logistics\n",
        "\n",
        "The solution to this problem will be published on this page at the start of November, at the same time as the next problem in the sequence. There will also be an associated LessWrong post.\n",
        "\n",
        "If you try to interpret this model, you can send your attempt in any of the following formats:\n",
        "\n",
        "* Colab notebook,\n",
        "* GitHub repo (e.g. with ipynb or markdown file explaining results),\n",
        "* Google Doc (with screenshots and explanations),\n",
        "* or any other sensible format.\n",
        "\n",
        "You can send your attempt to me (Callum McDougall) via any of the following methods:\n",
        "\n",
        "* The [Slack group](https://join.slack.com/t/arena-la82367/shared_invite/zt-1uvoagohe-JUv9xB7Vr143pdx1UBPrzQ), via a direct message to me\n",
        "* My personal email: `cal.s.mcdougall@gmail.com`\n",
        "* LessWrong message ([here](https://www.lesswrong.com/users/themcdouglas) is my user)\n",
        "\n",
        "**I'll feature the names of everyone who sends me a solution on this website, and also give a shout out to the best solutions.** It's possible that future challenges will also feature a monetary prize, but this is not guaranteed.\n",
        "\n",
        "Please don't discuss specific things you've found about this model until the challenge is over (although you can discuss general strategies and techniques, and you're also welcome to work in a group if you'd like). The deadline for this problem will be the end of this month, i.e. 31st August."
      ],
      "metadata": {
        "id": "6_GtzHFIaydj"
      }
    },
    {
      "cell_type": "markdown",
      "source": [
        "## What counts as a solution?\n",
        "\n",
        "Going through the solutions for the previous problem in the sequence (July: Palindromes) as well as the exercises in **[1.4] Balanced Bracket Classifier** should give you a good idea of what I'm looking for. In particular, I'd expect you to:\n",
        "\n",
        "* Describe a mechanism for how the model solves the task, in the form of the QK and OV circuits of various attention heads (and possibly any other mechanisms the model uses, e.g. the direct path, or nonlinear effects from layernorm),\n",
        "* Provide evidence for your mechanism, e.g. with tools like attention plots, targeted ablation / patching, or direct logit attribution.\n",
        "* (Optional) Include additional detail, e.g. identifying the subspaces that the model uses for certain forms of information transmission, or using your understanding of the model's behaviour to construct adversarial examples."
      ],
      "metadata": {
        "id": "cUO985pZaz7j"
      }
    },
    {
      "cell_type": "markdown",
      "source": [
        "## Task & Dataset\n",
        "\n",
        "The problem for this month is interpreting a model which has been trained to sort a list. The model is fed sequences like:\n",
        "\n",
        "```\n",
        "[11, 2, 5, 0, 3, 9, SEP, 0, 2, 3, 5, 9, 11]\n",
        "```\n",
        "\n",
        "and has been trained to predict each element in the sorted list (in other words, the output at the `SEP` token should be a prediction of `0`, the output at `0` should be a prediction of `2`, etc).\n",
        "\n",
        "Here is an example of what this dataset looks like:"
      ],
      "metadata": {
        "id": "bQgyYCaVawF2"
      }
    },
    {
      "cell_type": "code",
      "source": [
        "dataset = SortedListDataset(size=1, list_len=5, max_value=10, seed=42)\n",
        "\n",
        "print(dataset[0].tolist())\n",
        "print(dataset.str_toks[0])"
      ],
      "metadata": {
        "colab": {
          "base_uri": "https://localhost:8080/"
        },
        "id": "Z8RFTZ1VmTSz",
        "outputId": "f96681db-6e11-4154-99ce-4ee10a303346"
      },
      "execution_count": null,
      "outputs": [
        {
          "output_type": "stream",
          "name": "stdout",
          "text": [
            "[9, 6, 2, 4, 5, 11, 2, 4, 5, 6, 9]\n",
            "['9', '6', '2', '4', '5', 'SEP', '2', '4', '5', '6', '9']\n"
          ]
        }
      ]
    },
    {
      "cell_type": "markdown",
      "source": [
        "The relevant files can be found at:\n",
        "\n",
        "```\n",
        "chapter1_transformers/\n",
        "└── exercises/\n",
        "    └── monthly_algorithmic_problems/\n",
        "        └── october23_sorted_list/\n",
        "            ├── model.py               # code to create the model\n",
        "            ├── dataset.py             # code to define the dataset\n",
        "            ├── training.py            # code to training the model\n",
        "            └── training_model.ipynb   # actual training script\n",
        "```\n"
      ],
      "metadata": {
        "id": "JTpRZ3ePmXU2"
      }
    },
    {
      "cell_type": "markdown",
      "source": [
        "## Model\n",
        "\n",
        "The model is attention-only, with 1 layer, and 2 attention heads per layer. It was trained with layernorm, weight decay, and an Adam optimizer with linearly decaying learning rate.\n",
        "\n",
        "You can load the model in as follows:\n"
      ],
      "metadata": {
        "id": "2EukMwuOa8Eh"
      }
    },
    {
      "cell_type": "code",
      "execution_count": null,
      "metadata": {
        "id": "BVocPt-sagwB"
      },
      "outputs": [],
      "source": [
        "filename = section_dir / \"sorted_list_model.pt\"\n",
        "\n",
        "model = create_model(\n",
        "    list_len=10,\n",
        "    max_value=50,\n",
        "    seed=0,\n",
        "    d_model=96,\n",
        "    d_head=48,\n",
        "    n_layers=1,\n",
        "    n_heads=2,\n",
        "    normalization_type=\"LN\",\n",
        "    d_mlp=None\n",
        ")\n",
        "\n",
        "state_dict = t.load(filename)\n",
        "\n",
        "state_dict = model.center_writing_weights(t.load(filename))\n",
        "state_dict = model.center_unembed(state_dict)\n",
        "state_dict = model.fold_layer_norm(state_dict)\n",
        "state_dict = model.fold_value_biases(state_dict)\n",
        "model.load_state_dict(state_dict, strict=False);"
      ]
    },
    {
      "cell_type": "markdown",
      "metadata": {
        "id": "YiZFDAzFagwC"
      },
      "source": [
        "The code to process the state dictionary is a bit messy, but it's necessary to make sure the model is easy to work with. For instance, if you inspect the model's parameters, you'll see that `model.ln_final.w` is a vector of 1s, and `model.ln_final.b` is a vector of 0s (because the weight and bias have been folded into the unembedding)."
      ]
    },
    {
      "cell_type": "code",
      "execution_count": null,
      "metadata": {
        "colab": {
          "base_uri": "https://localhost:8080/"
        },
        "id": "3SYMGt0sagwC",
        "outputId": "c24c52f4-d589-4c13-c6ae-6101a58f4174"
      },
      "outputs": [
        {
          "output_type": "stream",
          "name": "stdout",
          "text": [
            "ln_final weight:  Parameter containing:\n",
            "tensor([1., 1., 1., 1., 1., 1., 1., 1., 1., 1., 1., 1., 1., 1., 1., 1., 1., 1.,\n",
            "        1., 1., 1., 1., 1., 1., 1., 1., 1., 1., 1., 1., 1., 1., 1., 1., 1., 1.,\n",
            "        1., 1., 1., 1., 1., 1., 1., 1., 1., 1., 1., 1., 1., 1., 1., 1., 1., 1.,\n",
            "        1., 1., 1., 1., 1., 1., 1., 1., 1., 1., 1., 1., 1., 1., 1., 1., 1., 1.,\n",
            "        1., 1., 1., 1., 1., 1., 1., 1., 1., 1., 1., 1., 1., 1., 1., 1., 1., 1.,\n",
            "        1., 1., 1., 1., 1., 1.], device='cuda:0', requires_grad=True)\n",
            "\n",
            "ln_final, bias:  Parameter containing:\n",
            "tensor([0., 0., 0., 0., 0., 0., 0., 0., 0., 0., 0., 0., 0., 0., 0., 0., 0., 0., 0., 0., 0., 0., 0., 0.,\n",
            "        0., 0., 0., 0., 0., 0., 0., 0., 0., 0., 0., 0., 0., 0., 0., 0., 0., 0., 0., 0., 0., 0., 0., 0.,\n",
            "        0., 0., 0., 0., 0., 0., 0., 0., 0., 0., 0., 0., 0., 0., 0., 0., 0., 0., 0., 0., 0., 0., 0., 0.,\n",
            "        0., 0., 0., 0., 0., 0., 0., 0., 0., 0., 0., 0., 0., 0., 0., 0., 0., 0., 0., 0., 0., 0., 0., 0.],\n",
            "       device='cuda:0', requires_grad=True)\n"
          ]
        }
      ],
      "source": [
        "print(\"ln_final weight: \", model.ln_final.w)\n",
        "print(\"\\nln_final, bias: \", model.ln_final.b)"
      ]
    },
    {
      "cell_type": "markdown",
      "metadata": {
        "id": "kE6-KTCEagwC"
      },
      "source": [
        "<details>\n",
        "<summary>Aside - the other weight processing parameters</summary>\n",
        "\n",
        "Here's some more code to verify that our weights processing worked, in other words:\n",
        "\n",
        "* The unembedding matrix has mean zero over both its input dimension (`d_model`) and output dimension (`d_vocab`)\n",
        "* All writing weights (i.e. `b_O`, `W_O`, and both embeddings) have mean zero over their output dimension (`d_model`)\n",
        "* The value biases `b_V` are zero (because these can just be folded into the output biases `b_O`)\n",
        "\n",
        "```python\n",
        "W_U_mean_over_input = einops.reduce(model.W_U, \"d_model d_vocab -> d_model\", \"mean\")\n",
        "t.testing.assert_close(W_U_mean_over_input, t.zeros_like(W_U_mean_over_input))\n",
        "\n",
        "W_U_mean_over_output = einops.reduce(model.W_U, \"d_model d_vocab -> d_vocab\", \"mean\")\n",
        "t.testing.assert_close(W_U_mean_over_output, t.zeros_like(W_U_mean_over_output))\n",
        "\n",
        "W_O_mean_over_output = einops.reduce(model.W_O, \"layer head d_head d_model -> layer head d_head\", \"mean\")\n",
        "t.testing.assert_close(W_O_mean_over_output, t.zeros_like(W_O_mean_over_output))\n",
        "\n",
        "b_O_mean_over_output = einops.reduce(model.b_O, \"layer d_model -> layer\", \"mean\")\n",
        "t.testing.assert_close(b_O_mean_over_output, t.zeros_like(b_O_mean_over_output))\n",
        "\n",
        "W_E_mean_over_output = einops.reduce(model.W_E, \"token d_model -> token\", \"mean\")\n",
        "t.testing.assert_close(W_E_mean_over_output, t.zeros_like(W_E_mean_over_output))\n",
        "\n",
        "W_pos_mean_over_output = einops.reduce(model.W_pos, \"position d_model -> position\", \"mean\")\n",
        "t.testing.assert_close(W_pos_mean_over_output, t.zeros_like(W_pos_mean_over_output))\n",
        "\n",
        "b_V = model.b_V\n",
        "t.testing.assert_close(b_V, t.zeros_like(b_V))\n",
        "```\n",
        "\n",
        "</details>"
      ]
    },
    {
      "cell_type": "markdown",
      "metadata": {
        "id": "3noWR5QRagwD"
      },
      "source": [
        "\n",
        "A demonstration of the model working:\n"
      ]
    },
    {
      "cell_type": "code",
      "execution_count": null,
      "metadata": {
        "colab": {
          "base_uri": "https://localhost:8080/"
        },
        "id": "YLtoK5nXagwD",
        "outputId": "117c32c2-2931-4a1e-d60a-00db79615f07"
      },
      "outputs": [
        {
          "output_type": "stream",
          "name": "stdout",
          "text": [
            "Average cross entropy loss: 0.039\n",
            "Mean probability on correct label: 0.966\n",
            "Median probability on correct label: 0.981\n",
            "Min probability on correct label: 0.001\n"
          ]
        }
      ],
      "source": [
        "from eindex import eindex\n",
        "\n",
        "N = 500\n",
        "dataset = SortedListDataset(size=N, list_len=10, max_value=50, seed=43)\n",
        "\n",
        "logits, cache = model.run_with_cache(dataset.toks)\n",
        "logits: t.Tensor = logits[:, dataset.list_len:-1, :]\n",
        "\n",
        "targets = dataset.toks[:, dataset.list_len+1:]\n",
        "\n",
        "logprobs = logits.log_softmax(-1) # [batch seq_len vocab_out]\n",
        "probs = logprobs.softmax(-1)\n",
        "\n",
        "batch_size, seq_len = dataset.toks.shape\n",
        "logprobs_correct = eindex(logprobs, targets, \"batch seq [batch seq]\")\n",
        "probs_correct = eindex(probs, targets, \"batch seq [batch seq]\")\n",
        "\n",
        "avg_cross_entropy_loss = -logprobs_correct.mean().item()\n",
        "\n",
        "print(f\"Average cross entropy loss: {avg_cross_entropy_loss:.3f}\")\n",
        "print(f\"Mean probability on correct label: {probs_correct.mean():.3f}\")\n",
        "print(f\"Median probability on correct label: {probs_correct.median():.3f}\")\n",
        "print(f\"Min probability on correct label: {probs_correct.min():.3f}\")"
      ]
    },
    {
      "cell_type": "markdown",
      "source": [
        "And a visualisation of its probability output for a single sequence:"
      ],
      "metadata": {
        "id": "VW8uJNzlH-3R"
      }
    },
    {
      "cell_type": "code",
      "source": [
        "def show(i):\n",
        "\n",
        "    imshow(\n",
        "        probs[i].T,\n",
        "        y=dataset.vocab,\n",
        "        x=[f\"{dataset.str_toks[i][j]}<br><sub>({j})</sub>\" for j in range(dataset.list_len+1, dataset.seq_len)],\n",
        "        labels={\"x\": \"Token\", \"y\": \"Vocab\"},\n",
        "        xaxis_tickangle=0,\n",
        "        title=f\"Sample model probabilities:<br>Unsorted = ({','.join(dataset.str_toks[i][:dataset.list_len])})\",\n",
        "        text=[\n",
        "            [\"〇\" if (str_tok == target) else \"\" for target in dataset.str_toks[i][dataset.list_len+1: dataset.seq_len]]\n",
        "            for str_tok in dataset.vocab\n",
        "        ],\n",
        "        width=400,\n",
        "        height=1000,\n",
        "    )\n",
        "\n",
        "show(0)"
      ],
      "metadata": {
        "colab": {
          "base_uri": "https://localhost:8080/",
          "height": 1000
        },
        "id": "FMiPGFraIHjm",
        "outputId": "cc6298c6-f796-4321-e90c-845c7c49039a"
      },
      "execution_count": null,
      "outputs": [
        {
          "output_type": "display_data",
          "data": {
            "text/html": [
              "<html>\n",
              "<head><meta charset=\"utf-8\" /></head>\n",
              "<body>\n",
              "    <div>            <script src=\"https://cdnjs.cloudflare.com/ajax/libs/mathjax/2.7.5/MathJax.js?config=TeX-AMS-MML_SVG\"></script><script type=\"text/javascript\">if (window.MathJax && window.MathJax.Hub && window.MathJax.Hub.Config) {window.MathJax.Hub.Config({SVG: {font: \"STIX-Web\"}});}</script>                <script type=\"text/javascript\">window.PlotlyConfig = {MathJaxConfig: 'local'};</script>\n",
              "        <script charset=\"utf-8\" src=\"https://cdn.plot.ly/plotly-2.24.1.min.js\"></script>                <div id=\"0ad06ce4-10fc-4fd8-b008-5be0af88ad17\" class=\"plotly-graph-div\" style=\"height:1000px; width:400px;\"></div>            <script type=\"text/javascript\">                                    window.PLOTLYENV=window.PLOTLYENV || {};                                    if (document.getElementById(\"0ad06ce4-10fc-4fd8-b008-5be0af88ad17\")) {                    Plotly.newPlot(                        \"0ad06ce4-10fc-4fd8-b008-5be0af88ad17\",                        [{\"coloraxis\":\"coloraxis\",\"name\":\"0\",\"x\":[\"4\\u003cbr\\u003e\\u003csub\\u003e(11)\\u003c\\u002fsub\\u003e\",\"5\\u003cbr\\u003e\\u003csub\\u003e(12)\\u003c\\u002fsub\\u003e\",\"7\\u003cbr\\u003e\\u003csub\\u003e(13)\\u003c\\u002fsub\\u003e\",\"11\\u003cbr\\u003e\\u003csub\\u003e(14)\\u003c\\u002fsub\\u003e\",\"19\\u003cbr\\u003e\\u003csub\\u003e(15)\\u003c\\u002fsub\\u003e\",\"20\\u003cbr\\u003e\\u003csub\\u003e(16)\\u003c\\u002fsub\\u003e\",\"24\\u003cbr\\u003e\\u003csub\\u003e(17)\\u003c\\u002fsub\\u003e\",\"39\\u003cbr\\u003e\\u003csub\\u003e(18)\\u003c\\u002fsub\\u003e\",\"47\\u003cbr\\u003e\\u003csub\\u003e(19)\\u003c\\u002fsub\\u003e\",\"48\\u003cbr\\u003e\\u003csub\\u003e(20)\\u003c\\u002fsub\\u003e\"],\"y\":[\"0\",\"1\",\"2\",\"3\",\"4\",\"5\",\"6\",\"7\",\"8\",\"9\",\"10\",\"11\",\"12\",\"13\",\"14\",\"15\",\"16\",\"17\",\"18\",\"19\",\"20\",\"21\",\"22\",\"23\",\"24\",\"25\",\"26\",\"27\",\"28\",\"29\",\"30\",\"31\",\"32\",\"33\",\"34\",\"35\",\"36\",\"37\",\"38\",\"39\",\"40\",\"41\",\"42\",\"43\",\"44\",\"45\",\"46\",\"47\",\"48\",\"49\",\"50\",\"SEP\"],\"z\":[[0.0005869731539860368,0.001172602642327547,0.0006239796057343483,0.0003221577499061823,7.238527905428782e-05,1.6424583009211347e-05,0.00043573539005592465,8.110622729873285e-05,7.334728434216231e-05,0.0002806005359161645],[0.00044657840044237673,0.0008315208833664656,4.85396922158543e-05,2.844256414391566e-05,0.00045974543900229037,9.417116962140426e-05,6.306877367023844e-06,0.0012625519884750247,0.0038269171491265297,0.0005754285375587642],[0.0008663830230943859,0.0008594569517299533,0.00012287014396861196,1.2448847883206327e-05,0.00027412472991272807,7.23134508007206e-05,8.371489821001887e-05,0.00021262250083964318,0.0006313577177934349,0.00010095956531586125],[0.0013339745346456766,0.002197766676545143,0.0003312096232548356,0.0006597538595087826,8.478893869323656e-05,4.9810016207629815e-05,3.297813964309171e-05,1.0835367902473081e-05,0.0006905157933942974,0.00022057780006434768],[0.9776460528373718,4.98986009915825e-05,1.080891797755612e-05,0.0003196195757482201,1.8893069864134304e-06,8.58705320183617e-08,0.000481367576867342,3.7190304283285514e-05,2.1758833099738695e-06,5.697588107977936e-07],[0.00520219374448061,0.9524310827255249,1.328420785284834e-05,0.00011569089110707864,0.0006280458765104413,4.911735231871717e-05,2.9698321668547578e-05,0.00011418946087360382,0.0016954276943579316,0.00010800002928590402],[2.6364928999100812e-05,0.0002551398065406829,0.0019626496359705925,0.00010959432984236628,0.0002732451248448342,1.3119092727720272e-05,9.811192285269499e-06,0.0032018981873989105,0.0022000987082719803,0.0004933182499371469],[7.923713565105572e-05,0.009838792495429516,0.9780819416046143,7.314651156775653e-06,1.0243458063996513e-06,3.14351636916399e-05,1.4865405262298736e-07,0.0003649200953077525,0.001325614401139319,0.0025279580149799585],[4.394953793962486e-05,5.9948368289042264e-05,7.212342461571097e-05,0.0013626422733068466,0.00044411467388272285,2.9664574867638294e-06,1.0435850299472804e-06,0.00010557263885857537,0.0005169798387214541,0.0001816294970922172],[0.00021742813987657428,1.1291444934613537e-05,0.00018706732953432947,0.00013405564823187888,3.5590688639786094e-05,0.00018609884136822075,5.89533919992391e-05,5.09273522766307e-05,3.418655978748575e-06,6.306696741376072e-05],[0.000454583641840145,3.3546213671797886e-05,0.0003628038102760911,0.0004901649081148207,5.184650149203662e-07,3.646102641141624e-06,0.0001470463175792247,5.53953941562213e-06,6.115282303653657e-05,1.0974158612953033e-06],[0.0011258985614404082,0.0009044940234161913,0.000626058375928551,0.9855964183807373,1.1260612154728733e-05,2.3924553715914954e-07,0.00010976749763358384,7.137500546150477e-08,7.271294452948496e-05,0.0004077462654095143],[2.1183483113418333e-05,0.0016579015646129847,0.00015104367048479617,2.238071829196997e-05,0.00010729545465437695,0.00045744897215627134,6.279225635807961e-05,1.0164091690967325e-05,9.71550980466418e-05,1.990039527299814e-05],[0.00020959913672413677,3.2597032259218395e-05,4.51580599474255e-05,4.2734456656035036e-05,0.0001587601873325184,8.378333404834848e-06,0.00013430576655082405,0.0012539924355223775,0.0011692555854097009,0.0002605432237032801],[0.00032413011649623513,0.0009065813501365483,0.00022385014744941145,9.946568752638996e-06,5.169256837689318e-05,2.5560957510606386e-06,7.584444006170088e-08,0.004461030010133982,0.000980287091806531,0.0006665981491096318],[8.201274613384157e-05,0.0005064991419203579,6.361884879879653e-05,0.00020795961609110236,0.001460262923501432,0.000784269708674401,0.0009480096050538123,8.390553557546809e-05,6.554862193297595e-05,0.00011838326463475823],[0.0003112910781055689,4.154656926402822e-05,1.2575567780004349e-05,9.950833191396669e-05,0.0031646050047129393,0.00011008098226739094,7.356864080065861e-05,0.000923545565456152,0.0008312941645272076,6.275379564613104e-05],[0.0001225496962433681,0.0005669065867550671,0.001238875207491219,0.0007243812433443964,0.001984579022973776,3.766446388908662e-05,0.00022470350086223334,8.052572957240045e-05,9.265875996788964e-05,0.0001185521759907715],[9.74964423221536e-05,0.0014805709943175316,0.00039218083838932216,5.746339593315497e-05,0.006802789866924286,0.00012395613885018975,9.746290743350983e-05,0.0001987712166737765,5.3302232117857784e-05,0.00043016966083087027],[4.1260727812186815e-06,2.0367540855659172e-05,5.488891474669799e-07,0.0025089287664741278,0.9412135481834412,0.00011625660408753902,0.00031839674920774996,0.0003435670805629343,0.0005446140421554446,0.00046862635645084083],[1.250697039267834e-07,0.00028181218658573925,0.00011712405103025958,5.936872184975073e-07,0.03056284971535206,0.9945112466812134,8.979080303106457e-05,0.0013897718163207173,0.0012115039862692356,0.0009617239120416343],[4.3604646634776145e-05,1.768501221022234e-07,0.0010538671631366014,0.00016195338685065508,2.5358449420309626e-05,3.396035390323959e-05,0.0008433058392256498,4.305240145185962e-05,7.2645120781089645e-06,5.076662637293339e-05],[0.0009735081112012267,0.00024307910643983632,2.8771778488589916e-06,0.000591628544498235,7.083616947056726e-05,2.8488493626355194e-05,0.0003398031694814563,6.141838753137563e-07,2.304038207512349e-05,1.9512608560035005e-06],[0.0012796034570783377,0.00024845232837833464,2.394164948782418e-05,0.00010966762056341395,9.330707689514384e-05,6.469624349847436e-05,0.002199981827288866,7.970488695718814e-06,3.803896788667771e-07,3.145188202324789e-06],[0.0002570821379777044,5.7915964134735987e-05,5.284084636514308e-07,7.989483856363222e-05,0.0009016336989589036,0.0011100711999461055,0.9883509874343872,7.448992164427182e-06,4.731834906124277e-06,6.323924139906012e-08],[8.99392252904363e-05,0.0003048778744414449,4.133638140046969e-05,2.8342782343315776e-07,0.00012183425133116543,8.077365055214614e-05,2.0831172150792554e-05,0.007127862889319658,0.0004915749887004495,4.262368747731671e-06],[1.6351476006093435e-05,0.00841047428548336,0.0007074078312143683,2.513969229767099e-05,9.10147136892192e-05,2.9205048122094013e-05,4.1648861952126026e-05,0.0003885046753566712,0.002521694405004382,0.00034295805380679667],[4.522436574916355e-05,3.662379822344519e-05,0.0004722508310806006,3.08933449559845e-05,3.940339411201421e-06,4.901934062218061e-06,1.1512022865645122e-05,0.00014661697787232697,7.055684545775875e-05,3.480848363324185e-06],[8.694675489095971e-05,0.0026809880509972572,0.0006553458515554667,0.00044246239122003317,2.1047868358436972e-05,2.548753036535345e-05,5.351143045118079e-06,0.0001913356827571988,0.0004075694887433201,0.00024260599457193166],[7.960084622027352e-05,0.00024174520513042808,5.0840306357713416e-05,7.23783959983848e-05,5.157143823453225e-05,1.4962839486543089e-05,1.3290311471791938e-05,0.00013111815496813506,5.8384717704029754e-05,2.590947951830458e-05],[0.00020122667774558067,0.0008560597198083997,0.00024303546524606645,8.249498205259442e-05,2.6718063963926397e-05,1.6291014617308974e-05,1.9623721527750604e-05,3.2342322811018676e-05,3.581485725590028e-05,1.1383868695702404e-05],[0.00045299885096028447,9.874771058093756e-05,3.259273216826841e-05,1.01844443634036e-05,0.001166301197372377,5.315194357535802e-05,8.067814633250237e-05,0.0003316672518849373,1.3220528671809006e-06,3.4354900435573654e-07],[2.764177793324052e-07,1.0065849892271217e-05,0.0005522759747691453,6.77692805766128e-05,0.00025424204068258405,9.113240230362862e-05,1.1973007531196345e-05,0.00017989895422942936,0.000148557941429317,0.0001024500306812115],[0.0005991652724333107,1.935456930368673e-05,1.0213933165914568e-07,4.559402896120446e-06,0.00019298747065477073,3.9094293242669664e-06,0.0004084577376488596,0.0022952959407120943,8.568291377741843e-05,8.524850727553712e-07],[0.00014044898853171617,7.296039984794334e-05,3.928495789295994e-05,8.531479397788644e-05,0.00014275252760853618,1.2430044080247171e-05,0.00017938482051249593,0.0006664192769676447,0.00022816224372945726,3.0490038625430316e-05],[4.0049300878308713e-05,1.802436315756495e-07,1.0492594810784794e-06,0.00044493269524537027,0.0002873300982173532,5.623579454550054e-06,0.00029473548056557775,0.00010831787949427962,1.655659502830531e-06,1.7567923578098998e-06],[7.594927637910587e-07,2.3185915779322386e-05,0.0005911955377086997,2.15435338759562e-05,7.559703954029828e-05,7.595576607855037e-05,5.8396461099619046e-05,0.0029701979365199804,0.0009292849572375417,0.0005378577043302357],[0.00036536052357405424,0.00013337000564206392,4.3912055843975395e-05,2.6554020223557018e-05,0.00015215213352348655,1.4612157428928185e-05,0.0006102039478719234,0.005720627028495073,0.0011815568432211876,0.00013466661039274186],[0.0002786999102681875,0.00011147136683575809,7.96001186245121e-05,1.792613488760253e-07,1.2164923646196257e-05,0.00032361512421630323,8.942666318034753e-05,0.0022445772774517536,6.546590884681791e-05,1.4351868230733089e-05],[6.345255678752437e-05,9.218665582011454e-06,3.979522080044262e-05,2.1249394421829493e-07,0.0014566133031621575,9.529368253424764e-05,7.066756552376319e-06,0.9569957256317139,0.0008133893716149032,0.0002876547514460981],[0.0009666067198850214,0.0001142763503594324,1.1745082701963838e-05,0.0017402649391442537,0.00020922417752444744,5.50965251022717e-06,0.00031833056709729135,0.00017469626618549228,0.0009711405728012323,0.00010293274681316689],[8.5352425230667e-05,0.0029095702338963747,9.699031943455338e-05,0.00011471889592939988,0.000316888268571347,0.0003371815546415746,4.0441442251903936e-05,6.534574640681967e-05,0.00023029233852867037,5.936057277722284e-05],[2.902344749600161e-05,5.350043466023635e-06,9.979046444641426e-05,0.00023246744240168482,0.00029670604271814227,8.565474854549393e-05,0.0008874948835000396,0.0002361563383601606,0.0010074328165501356,9.95571244857274e-05],[0.0017588994232937694,0.00025579810608178377,9.695989865576848e-05,0.0009087419020943344,6.317914085229859e-06,7.407178514995394e-08,4.890337550023105e-06,7.973137689987198e-05,0.0008485020371153951,0.000254056416451931],[5.3944469982525334e-05,0.0006062787142582238,1.714160930532671e-06,4.088053174200468e-05,0.0004319842264521867,0.00031515685259364545,0.00010044226655736566,0.00019883946515619755,0.0026069486048072577,0.0004957187338732183],[4.643231295631267e-05,5.86263604418491e-06,8.988750778371468e-06,0.00016672458150424063,4.0663755498826504e-05,4.767236168845557e-05,0.00012818943650927395,0.0003161190543323755,0.0020992697682231665,0.0001396443840349093],[0.002524435520172119,0.0049772136844694614,0.0006512327236123383,3.601080607040785e-05,2.4771552489255555e-06,8.454605267615989e-05,0.0003368523030076176,7.899284537415951e-05,0.0037995611783117056,0.0005884835263714194],[3.055392880924046e-06,0.002763158641755581,0.00012699299259111285,3.996576924691908e-05,0.0007407094235531986,6.837247929070145e-05,4.116993750358233e-06,0.0028842389583587646,0.9000112414360046,0.0033242455683648586],[3.7130243981664535e-06,0.0004337176214903593,0.008984684012830257,0.0005636138375848532,0.00038397914613597095,2.743654476944357e-05,4.802255375579989e-07,0.001956120366230607,0.0647096261382103,0.984645664691925],[0.00010341254528611898,3.071357696171617e-06,0.0005164363537915051,0.0004129336739424616,1.3298672456585336e-05,3.124607019344694e-06,0.0001752265525283292,2.4421020498266444e-05,8.390650327783078e-05,6.721445970470086e-05],[8.99394799489528e-05,5.815012991661206e-05,1.8142982298741117e-06,0.0005699620814993978,0.004469895735383034,0.00023394661548081785,0.001006255391985178,2.7167805455974303e-05,0.00018912841915152967,0.0002833034086506814],[0.00011865830310853198,0.00016817939467728138,8.318568870890886e-05,8.368357521248981e-05,0.00014724044012837112,3.545034633134492e-05,6.498796574305743e-05,0.00017581709835212678,0.0002214862615801394,7.46517107472755e-05]],\"type\":\"heatmap\",\"xaxis\":\"x\",\"yaxis\":\"y\",\"hovertemplate\":\"Token: %{x}\\u003cbr\\u003eVocab: %{y}\\u003cbr\\u003ecolor: %{z}\\u003cextra\\u003e\\u003c\\u002fextra\\u003e\",\"textfont\":{\"size\":12},\"text\":[[\"\",\"\",\"\",\"\",\"\",\"\",\"\",\"\",\"\",\"\"],[\"\",\"\",\"\",\"\",\"\",\"\",\"\",\"\",\"\",\"\"],[\"\",\"\",\"\",\"\",\"\",\"\",\"\",\"\",\"\",\"\"],[\"\",\"\",\"\",\"\",\"\",\"\",\"\",\"\",\"\",\"\"],[\"\\u3007\",\"\",\"\",\"\",\"\",\"\",\"\",\"\",\"\",\"\"],[\"\",\"\\u3007\",\"\",\"\",\"\",\"\",\"\",\"\",\"\",\"\"],[\"\",\"\",\"\",\"\",\"\",\"\",\"\",\"\",\"\",\"\"],[\"\",\"\",\"\\u3007\",\"\",\"\",\"\",\"\",\"\",\"\",\"\"],[\"\",\"\",\"\",\"\",\"\",\"\",\"\",\"\",\"\",\"\"],[\"\",\"\",\"\",\"\",\"\",\"\",\"\",\"\",\"\",\"\"],[\"\",\"\",\"\",\"\",\"\",\"\",\"\",\"\",\"\",\"\"],[\"\",\"\",\"\",\"\\u3007\",\"\",\"\",\"\",\"\",\"\",\"\"],[\"\",\"\",\"\",\"\",\"\",\"\",\"\",\"\",\"\",\"\"],[\"\",\"\",\"\",\"\",\"\",\"\",\"\",\"\",\"\",\"\"],[\"\",\"\",\"\",\"\",\"\",\"\",\"\",\"\",\"\",\"\"],[\"\",\"\",\"\",\"\",\"\",\"\",\"\",\"\",\"\",\"\"],[\"\",\"\",\"\",\"\",\"\",\"\",\"\",\"\",\"\",\"\"],[\"\",\"\",\"\",\"\",\"\",\"\",\"\",\"\",\"\",\"\"],[\"\",\"\",\"\",\"\",\"\",\"\",\"\",\"\",\"\",\"\"],[\"\",\"\",\"\",\"\",\"\\u3007\",\"\",\"\",\"\",\"\",\"\"],[\"\",\"\",\"\",\"\",\"\",\"\\u3007\",\"\",\"\",\"\",\"\"],[\"\",\"\",\"\",\"\",\"\",\"\",\"\",\"\",\"\",\"\"],[\"\",\"\",\"\",\"\",\"\",\"\",\"\",\"\",\"\",\"\"],[\"\",\"\",\"\",\"\",\"\",\"\",\"\",\"\",\"\",\"\"],[\"\",\"\",\"\",\"\",\"\",\"\",\"\\u3007\",\"\",\"\",\"\"],[\"\",\"\",\"\",\"\",\"\",\"\",\"\",\"\",\"\",\"\"],[\"\",\"\",\"\",\"\",\"\",\"\",\"\",\"\",\"\",\"\"],[\"\",\"\",\"\",\"\",\"\",\"\",\"\",\"\",\"\",\"\"],[\"\",\"\",\"\",\"\",\"\",\"\",\"\",\"\",\"\",\"\"],[\"\",\"\",\"\",\"\",\"\",\"\",\"\",\"\",\"\",\"\"],[\"\",\"\",\"\",\"\",\"\",\"\",\"\",\"\",\"\",\"\"],[\"\",\"\",\"\",\"\",\"\",\"\",\"\",\"\",\"\",\"\"],[\"\",\"\",\"\",\"\",\"\",\"\",\"\",\"\",\"\",\"\"],[\"\",\"\",\"\",\"\",\"\",\"\",\"\",\"\",\"\",\"\"],[\"\",\"\",\"\",\"\",\"\",\"\",\"\",\"\",\"\",\"\"],[\"\",\"\",\"\",\"\",\"\",\"\",\"\",\"\",\"\",\"\"],[\"\",\"\",\"\",\"\",\"\",\"\",\"\",\"\",\"\",\"\"],[\"\",\"\",\"\",\"\",\"\",\"\",\"\",\"\",\"\",\"\"],[\"\",\"\",\"\",\"\",\"\",\"\",\"\",\"\",\"\",\"\"],[\"\",\"\",\"\",\"\",\"\",\"\",\"\",\"\\u3007\",\"\",\"\"],[\"\",\"\",\"\",\"\",\"\",\"\",\"\",\"\",\"\",\"\"],[\"\",\"\",\"\",\"\",\"\",\"\",\"\",\"\",\"\",\"\"],[\"\",\"\",\"\",\"\",\"\",\"\",\"\",\"\",\"\",\"\"],[\"\",\"\",\"\",\"\",\"\",\"\",\"\",\"\",\"\",\"\"],[\"\",\"\",\"\",\"\",\"\",\"\",\"\",\"\",\"\",\"\"],[\"\",\"\",\"\",\"\",\"\",\"\",\"\",\"\",\"\",\"\"],[\"\",\"\",\"\",\"\",\"\",\"\",\"\",\"\",\"\",\"\"],[\"\",\"\",\"\",\"\",\"\",\"\",\"\",\"\",\"\\u3007\",\"\"],[\"\",\"\",\"\",\"\",\"\",\"\",\"\",\"\",\"\",\"\\u3007\"],[\"\",\"\",\"\",\"\",\"\",\"\",\"\",\"\",\"\",\"\"],[\"\",\"\",\"\",\"\",\"\",\"\",\"\",\"\",\"\",\"\"],[\"\",\"\",\"\",\"\",\"\",\"\",\"\",\"\",\"\",\"\"]],\"texttemplate\":\"%{text}\"}],                        {\"template\":{\"data\":{\"histogram2dcontour\":[{\"type\":\"histogram2dcontour\",\"colorbar\":{\"outlinewidth\":0,\"ticks\":\"\"},\"colorscale\":[[0.0,\"#0d0887\"],[0.1111111111111111,\"#46039f\"],[0.2222222222222222,\"#7201a8\"],[0.3333333333333333,\"#9c179e\"],[0.4444444444444444,\"#bd3786\"],[0.5555555555555556,\"#d8576b\"],[0.6666666666666666,\"#ed7953\"],[0.7777777777777778,\"#fb9f3a\"],[0.8888888888888888,\"#fdca26\"],[1.0,\"#f0f921\"]]}],\"choropleth\":[{\"type\":\"choropleth\",\"colorbar\":{\"outlinewidth\":0,\"ticks\":\"\"}}],\"histogram2d\":[{\"type\":\"histogram2d\",\"colorbar\":{\"outlinewidth\":0,\"ticks\":\"\"},\"colorscale\":[[0.0,\"#0d0887\"],[0.1111111111111111,\"#46039f\"],[0.2222222222222222,\"#7201a8\"],[0.3333333333333333,\"#9c179e\"],[0.4444444444444444,\"#bd3786\"],[0.5555555555555556,\"#d8576b\"],[0.6666666666666666,\"#ed7953\"],[0.7777777777777778,\"#fb9f3a\"],[0.8888888888888888,\"#fdca26\"],[1.0,\"#f0f921\"]]}],\"heatmap\":[{\"type\":\"heatmap\",\"colorbar\":{\"outlinewidth\":0,\"ticks\":\"\"},\"colorscale\":[[0.0,\"#0d0887\"],[0.1111111111111111,\"#46039f\"],[0.2222222222222222,\"#7201a8\"],[0.3333333333333333,\"#9c179e\"],[0.4444444444444444,\"#bd3786\"],[0.5555555555555556,\"#d8576b\"],[0.6666666666666666,\"#ed7953\"],[0.7777777777777778,\"#fb9f3a\"],[0.8888888888888888,\"#fdca26\"],[1.0,\"#f0f921\"]]}],\"heatmapgl\":[{\"type\":\"heatmapgl\",\"colorbar\":{\"outlinewidth\":0,\"ticks\":\"\"},\"colorscale\":[[0.0,\"#0d0887\"],[0.1111111111111111,\"#46039f\"],[0.2222222222222222,\"#7201a8\"],[0.3333333333333333,\"#9c179e\"],[0.4444444444444444,\"#bd3786\"],[0.5555555555555556,\"#d8576b\"],[0.6666666666666666,\"#ed7953\"],[0.7777777777777778,\"#fb9f3a\"],[0.8888888888888888,\"#fdca26\"],[1.0,\"#f0f921\"]]}],\"contourcarpet\":[{\"type\":\"contourcarpet\",\"colorbar\":{\"outlinewidth\":0,\"ticks\":\"\"}}],\"contour\":[{\"type\":\"contour\",\"colorbar\":{\"outlinewidth\":0,\"ticks\":\"\"},\"colorscale\":[[0.0,\"#0d0887\"],[0.1111111111111111,\"#46039f\"],[0.2222222222222222,\"#7201a8\"],[0.3333333333333333,\"#9c179e\"],[0.4444444444444444,\"#bd3786\"],[0.5555555555555556,\"#d8576b\"],[0.6666666666666666,\"#ed7953\"],[0.7777777777777778,\"#fb9f3a\"],[0.8888888888888888,\"#fdca26\"],[1.0,\"#f0f921\"]]}],\"surface\":[{\"type\":\"surface\",\"colorbar\":{\"outlinewidth\":0,\"ticks\":\"\"},\"colorscale\":[[0.0,\"#0d0887\"],[0.1111111111111111,\"#46039f\"],[0.2222222222222222,\"#7201a8\"],[0.3333333333333333,\"#9c179e\"],[0.4444444444444444,\"#bd3786\"],[0.5555555555555556,\"#d8576b\"],[0.6666666666666666,\"#ed7953\"],[0.7777777777777778,\"#fb9f3a\"],[0.8888888888888888,\"#fdca26\"],[1.0,\"#f0f921\"]]}],\"mesh3d\":[{\"type\":\"mesh3d\",\"colorbar\":{\"outlinewidth\":0,\"ticks\":\"\"}}],\"scatter\":[{\"fillpattern\":{\"fillmode\":\"overlay\",\"size\":10,\"solidity\":0.2},\"type\":\"scatter\"}],\"parcoords\":[{\"type\":\"parcoords\",\"line\":{\"colorbar\":{\"outlinewidth\":0,\"ticks\":\"\"}}}],\"scatterpolargl\":[{\"type\":\"scatterpolargl\",\"marker\":{\"colorbar\":{\"outlinewidth\":0,\"ticks\":\"\"}}}],\"bar\":[{\"error_x\":{\"color\":\"#2a3f5f\"},\"error_y\":{\"color\":\"#2a3f5f\"},\"marker\":{\"line\":{\"color\":\"#E5ECF6\",\"width\":0.5},\"pattern\":{\"fillmode\":\"overlay\",\"size\":10,\"solidity\":0.2}},\"type\":\"bar\"}],\"scattergeo\":[{\"type\":\"scattergeo\",\"marker\":{\"colorbar\":{\"outlinewidth\":0,\"ticks\":\"\"}}}],\"scatterpolar\":[{\"type\":\"scatterpolar\",\"marker\":{\"colorbar\":{\"outlinewidth\":0,\"ticks\":\"\"}}}],\"histogram\":[{\"marker\":{\"pattern\":{\"fillmode\":\"overlay\",\"size\":10,\"solidity\":0.2}},\"type\":\"histogram\"}],\"scattergl\":[{\"type\":\"scattergl\",\"marker\":{\"colorbar\":{\"outlinewidth\":0,\"ticks\":\"\"}}}],\"scatter3d\":[{\"type\":\"scatter3d\",\"line\":{\"colorbar\":{\"outlinewidth\":0,\"ticks\":\"\"}},\"marker\":{\"colorbar\":{\"outlinewidth\":0,\"ticks\":\"\"}}}],\"scattermapbox\":[{\"type\":\"scattermapbox\",\"marker\":{\"colorbar\":{\"outlinewidth\":0,\"ticks\":\"\"}}}],\"scatterternary\":[{\"type\":\"scatterternary\",\"marker\":{\"colorbar\":{\"outlinewidth\":0,\"ticks\":\"\"}}}],\"scattercarpet\":[{\"type\":\"scattercarpet\",\"marker\":{\"colorbar\":{\"outlinewidth\":0,\"ticks\":\"\"}}}],\"carpet\":[{\"aaxis\":{\"endlinecolor\":\"#2a3f5f\",\"gridcolor\":\"white\",\"linecolor\":\"white\",\"minorgridcolor\":\"white\",\"startlinecolor\":\"#2a3f5f\"},\"baxis\":{\"endlinecolor\":\"#2a3f5f\",\"gridcolor\":\"white\",\"linecolor\":\"white\",\"minorgridcolor\":\"white\",\"startlinecolor\":\"#2a3f5f\"},\"type\":\"carpet\"}],\"table\":[{\"cells\":{\"fill\":{\"color\":\"#EBF0F8\"},\"line\":{\"color\":\"white\"}},\"header\":{\"fill\":{\"color\":\"#C8D4E3\"},\"line\":{\"color\":\"white\"}},\"type\":\"table\"}],\"barpolar\":[{\"marker\":{\"line\":{\"color\":\"#E5ECF6\",\"width\":0.5},\"pattern\":{\"fillmode\":\"overlay\",\"size\":10,\"solidity\":0.2}},\"type\":\"barpolar\"}],\"pie\":[{\"automargin\":true,\"type\":\"pie\"}]},\"layout\":{\"autotypenumbers\":\"strict\",\"colorway\":[\"#636efa\",\"#EF553B\",\"#00cc96\",\"#ab63fa\",\"#FFA15A\",\"#19d3f3\",\"#FF6692\",\"#B6E880\",\"#FF97FF\",\"#FECB52\"],\"font\":{\"color\":\"#2a3f5f\"},\"hovermode\":\"closest\",\"hoverlabel\":{\"align\":\"left\"},\"paper_bgcolor\":\"white\",\"plot_bgcolor\":\"#E5ECF6\",\"polar\":{\"bgcolor\":\"#E5ECF6\",\"angularaxis\":{\"gridcolor\":\"white\",\"linecolor\":\"white\",\"ticks\":\"\"},\"radialaxis\":{\"gridcolor\":\"white\",\"linecolor\":\"white\",\"ticks\":\"\"}},\"ternary\":{\"bgcolor\":\"#E5ECF6\",\"aaxis\":{\"gridcolor\":\"white\",\"linecolor\":\"white\",\"ticks\":\"\"},\"baxis\":{\"gridcolor\":\"white\",\"linecolor\":\"white\",\"ticks\":\"\"},\"caxis\":{\"gridcolor\":\"white\",\"linecolor\":\"white\",\"ticks\":\"\"}},\"coloraxis\":{\"colorbar\":{\"outlinewidth\":0,\"ticks\":\"\"}},\"colorscale\":{\"sequential\":[[0.0,\"#0d0887\"],[0.1111111111111111,\"#46039f\"],[0.2222222222222222,\"#7201a8\"],[0.3333333333333333,\"#9c179e\"],[0.4444444444444444,\"#bd3786\"],[0.5555555555555556,\"#d8576b\"],[0.6666666666666666,\"#ed7953\"],[0.7777777777777778,\"#fb9f3a\"],[0.8888888888888888,\"#fdca26\"],[1.0,\"#f0f921\"]],\"sequentialminus\":[[0.0,\"#0d0887\"],[0.1111111111111111,\"#46039f\"],[0.2222222222222222,\"#7201a8\"],[0.3333333333333333,\"#9c179e\"],[0.4444444444444444,\"#bd3786\"],[0.5555555555555556,\"#d8576b\"],[0.6666666666666666,\"#ed7953\"],[0.7777777777777778,\"#fb9f3a\"],[0.8888888888888888,\"#fdca26\"],[1.0,\"#f0f921\"]],\"diverging\":[[0,\"#8e0152\"],[0.1,\"#c51b7d\"],[0.2,\"#de77ae\"],[0.3,\"#f1b6da\"],[0.4,\"#fde0ef\"],[0.5,\"#f7f7f7\"],[0.6,\"#e6f5d0\"],[0.7,\"#b8e186\"],[0.8,\"#7fbc41\"],[0.9,\"#4d9221\"],[1,\"#276419\"]]},\"xaxis\":{\"gridcolor\":\"white\",\"linecolor\":\"white\",\"ticks\":\"\",\"title\":{\"standoff\":15},\"zerolinecolor\":\"white\",\"automargin\":true,\"zerolinewidth\":2},\"yaxis\":{\"gridcolor\":\"white\",\"linecolor\":\"white\",\"ticks\":\"\",\"title\":{\"standoff\":15},\"zerolinecolor\":\"white\",\"automargin\":true,\"zerolinewidth\":2},\"scene\":{\"xaxis\":{\"backgroundcolor\":\"#E5ECF6\",\"gridcolor\":\"white\",\"linecolor\":\"white\",\"showbackground\":true,\"ticks\":\"\",\"zerolinecolor\":\"white\",\"gridwidth\":2},\"yaxis\":{\"backgroundcolor\":\"#E5ECF6\",\"gridcolor\":\"white\",\"linecolor\":\"white\",\"showbackground\":true,\"ticks\":\"\",\"zerolinecolor\":\"white\",\"gridwidth\":2},\"zaxis\":{\"backgroundcolor\":\"#E5ECF6\",\"gridcolor\":\"white\",\"linecolor\":\"white\",\"showbackground\":true,\"ticks\":\"\",\"zerolinecolor\":\"white\",\"gridwidth\":2}},\"shapedefaults\":{\"line\":{\"color\":\"#2a3f5f\"}},\"annotationdefaults\":{\"arrowcolor\":\"#2a3f5f\",\"arrowhead\":0,\"arrowwidth\":1},\"geo\":{\"bgcolor\":\"white\",\"landcolor\":\"#E5ECF6\",\"subunitcolor\":\"white\",\"showland\":true,\"showlakes\":true,\"lakecolor\":\"white\"},\"title\":{\"x\":0.05},\"mapbox\":{\"style\":\"light\"}}},\"xaxis\":{\"anchor\":\"y\",\"domain\":[0.0,1.0],\"scaleanchor\":\"y\",\"constrain\":\"domain\",\"title\":{\"text\":\"Token\"},\"tickangle\":0},\"yaxis\":{\"anchor\":\"x\",\"domain\":[0.0,1.0],\"autorange\":\"reversed\",\"constrain\":\"domain\",\"title\":{\"text\":\"Vocab\"}},\"coloraxis\":{\"colorscale\":[[0.0,\"rgb(103,0,31)\"],[0.1,\"rgb(178,24,43)\"],[0.2,\"rgb(214,96,77)\"],[0.3,\"rgb(244,165,130)\"],[0.4,\"rgb(253,219,199)\"],[0.5,\"rgb(247,247,247)\"],[0.6,\"rgb(209,229,240)\"],[0.7,\"rgb(146,197,222)\"],[0.8,\"rgb(67,147,195)\"],[0.9,\"rgb(33,102,172)\"],[1.0,\"rgb(5,48,97)\"]],\"cmid\":0.0},\"title\":{\"text\":\"Sample model probabilities:\\u003cbr\\u003eUnsorted = (7,5,47,20,48,24,11,4,19,39)\"},\"height\":1000,\"width\":400},                        {\"staticPlot\": false, \"responsive\": true}                    ).then(function(){\n",
              "                            \n",
              "var gd = document.getElementById('0ad06ce4-10fc-4fd8-b008-5be0af88ad17');\n",
              "var x = new MutationObserver(function (mutations, observer) {{\n",
              "        var display = window.getComputedStyle(gd).display;\n",
              "        if (!display || display === 'none') {{\n",
              "            console.log([gd, 'removed!']);\n",
              "            Plotly.purge(gd);\n",
              "            observer.disconnect();\n",
              "        }}\n",
              "}});\n",
              "\n",
              "// Listen for the removal of the full notebook cells\n",
              "var notebookContainer = gd.closest('#notebook-container');\n",
              "if (notebookContainer) {{\n",
              "    x.observe(notebookContainer, {childList: true});\n",
              "}}\n",
              "\n",
              "// Listen for the clearing of the current output cell\n",
              "var outputEl = gd.closest('.output');\n",
              "if (outputEl) {{\n",
              "    x.observe(outputEl, {childList: true});\n",
              "}}\n",
              "\n",
              "                        })                };                            </script>        </div>\n",
              "</body>\n",
              "</html>"
            ]
          },
          "metadata": {}
        }
      ]
    },
    {
      "cell_type": "markdown",
      "metadata": {
        "id": "Sh9CtuD5agwE"
      },
      "source": [
        "Best of luck! 🎈"
      ]
    }
  ],
  "metadata": {
    "kernelspec": {
      "display_name": "Python 3",
      "name": "python3"
    },
    "language_info": {
      "codemirror_mode": {
        "name": "ipython",
        "version": 3
      },
      "file_extension": ".py",
      "mimetype": "text/x-python",
      "name": "python",
      "nbconvert_exporter": "python",
      "pygments_lexer": "ipython3",
      "version": "3.10.9"
    },
    "orig_nbformat": 4,
    "colab": {
      "provenance": [],
      "machine_shape": "hm",
      "gpuType": "A100",
      "include_colab_link": true
    },
    "accelerator": "GPU"
  },
  "nbformat": 4,
  "nbformat_minor": 0
}