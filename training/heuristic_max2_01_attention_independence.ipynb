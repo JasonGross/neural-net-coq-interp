{
 "cells": [
  {
   "cell_type": "code",
   "execution_count": 1,
   "metadata": {},
   "outputs": [
    {
     "name": "stdout",
     "output_type": "stream",
     "text": [
      "Moving model to device:  cpu\n"
     ]
    }
   ],
   "source": [
    "import gc\n",
    "from interp_max_utils_heuristic import compute_heuristic_independence_attention_copying, print_independence_attention_copying_stats\n",
    "from train_max_of_2 import get_model\n",
    "from tqdm.auto import tqdm"
   ]
  },
  {
   "cell_type": "code",
   "execution_count": 2,
   "metadata": {},
   "outputs": [
    {
     "name": "stderr",
     "output_type": "stream",
     "text": [
      "\u001b[34m\u001b[1mwandb\u001b[0m:   1 of 1 files downloaded.  \n"
     ]
    }
   ],
   "source": [
    "if __name__ == '__main__':\n",
    "    TRAIN_IF_NECESSARY = False\n",
    "    model = get_model(train_if_necessary=TRAIN_IF_NECESSARY)\n"
   ]
  },
  {
   "cell_type": "code",
   "execution_count": 3,
   "metadata": {},
   "outputs": [
    {
     "data": {
      "application/vnd.jupyter.widget-view+json": {
       "model_id": "82a97df8050f4a5fbab7a4e653f700a8",
       "version_major": 2,
       "version_minor": 0
      },
      "text/plain": [
       "  0%|          | 0/4096 [00:00<?, ?it/s]"
      ]
     },
     "metadata": {},
     "output_type": "display_data"
    },
    {
     "data": {
      "application/vnd.jupyter.widget-view+json": {
       "model_id": "7fc9bdb6e6714f1993c81f19bb7ac07d",
       "version_major": 2,
       "version_minor": 0
      },
      "text/plain": [
       "  0%|          | 0/4096 [00:00<?, ?it/s]"
      ]
     },
     "metadata": {},
     "output_type": "display_data"
    },
    {
     "data": {
      "application/vnd.jupyter.widget-view+json": {
       "model_id": "c42ba3bb70c54cef85c5616c693c65ec",
       "version_major": 2,
       "version_minor": 0
      },
      "text/plain": [
       "  0%|          | 0/64 [00:00<?, ?it/s]"
      ]
     },
     "metadata": {},
     "output_type": "display_data"
    }
   ],
   "source": [
    "if __name__ == '__main__':\n",
    "    results = compute_heuristic_independence_attention_copying(model, tqdm=tqdm)\n",
    "    gc.collect()\n"
   ]
  },
  {
   "cell_type": "code",
   "execution_count": 4,
   "metadata": {},
   "outputs": [
    {
     "name": "stdout",
     "output_type": "stream",
     "text": [
      "Assume that attention paid to the non-max tokens is independent of the copying behavior on non-max tokens which are at least 1 away\n"
     ]
    },
    {
     "data": {
      "application/vnd.jupyter.widget-view+json": {
       "model_id": "4b8c289586e843d184b93a79661f8a0b",
       "version_major": 2,
       "version_minor": 0
      },
      "text/plain": [
       "  0%|          | 0/64 [00:00<?, ?it/s]"
      ]
     },
     "metadata": {},
     "output_type": "display_data"
    },
    {
     "name": "stdout",
     "output_type": "stream",
     "text": [
      "Then we expect that in 4.575402635964565e-05% of cases (0.18740849196910858 out of 4096), the model will return an incorrect result\n",
      "(The true accuracy is 1.0 (1 - acc = 0.0), i.e., 0 wrong out of 4096)\n",
      "The best possible heuristic loss is 0.00012142978523379791 (true loss: 1.763934704968051e-07)\n",
      "The worst-case logit gap is -2.6940298080444336\n",
      "Broken out by gap:\n",
      "Gap 1:\n",
      "We expect that in 0.0019240019610151649% of cases (0.24242424964904785 out of 126), the model will return an incorrect result\n",
      "The worst-case logit gap is -2.6940298080444336\n"
     ]
    }
   ],
   "source": [
    "if __name__ == '__main__':\n",
    "    print_independence_attention_copying_stats(model, tqdm=tqdm, results=results)"
   ]
  },
  {
   "cell_type": "code",
   "execution_count": null,
   "metadata": {},
   "outputs": [],
   "source": []
  }
 ],
 "metadata": {
  "kernelspec": {
   "display_name": "base",
   "language": "python",
   "name": "python3"
  },
  "language_info": {
   "codemirror_mode": {
    "name": "ipython",
    "version": 3
   },
   "file_extension": ".py",
   "mimetype": "text/x-python",
   "name": "python",
   "nbconvert_exporter": "python",
   "pygments_lexer": "ipython3",
   "version": "3.11.4"
  },
  "orig_nbformat": 4
 },
 "nbformat": 4,
 "nbformat_minor": 2
}
